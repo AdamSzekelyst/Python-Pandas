{
 "cells": [
  {
   "cell_type": "code",
   "execution_count": 21,
   "id": "5e8a7674-e419-4784-9fda-d91653a8d5af",
   "metadata": {},
   "outputs": [],
   "source": [
    "from bs4 import BeautifulSoup # Import BeautifulSoup for HTML parsing\n",
    "import requests # Import requests library for making HTTP requests\n",
    "import time # Import time module for pausing execution\n",
    "import datetime # Import datetime module for handling dates and times\n",
    "import smtplib # Import smtplib for sending email notifications"
   ]
  },
  {
   "cell_type": "code",
   "execution_count": 23,
   "id": "e0cf7169-af47-4168-81a6-279ee7110979",
   "metadata": {},
   "outputs": [
    {
     "name": "stdout",
     "output_type": "stream",
     "text": [
      "        Funny Got Data MIS Data Systems Business Analyst T-Shirt       \n",
      "$16.99\n"
     ]
    }
   ],
   "source": [
    "# Define the URL of the Amazon product page\n",
    "URL = 'https://www.amazon.com/Funny-Data-Systems-Business-Analyst/dp/B07FNW9FGJ'\n",
    "\n",
    "# Define headers to mimic a real browser request\n",
    "headers = {\"User-Agent\": \"Mozilla/5.0 (Windows NT 10.0; Win64; x64) AppleWebKit/537.36 (KHTML, like Gecko) Chrome/126.0.0.0 Safari/537.36\", \n",
    "           \"Accept-Encoding\": \"gzip, deflate, br, zstd\", \n",
    "           \"Accept\": \"text/html,application/xhtml+xml,application/xml;q=0.9,image/avif,image/webp,image/apng,*/*;q=0.8,application/signed-exchange;v=b3;q=0.7\", \n",
    "           \"DNT\":\"1\", \n",
    "           \"Connection\":\"close\", \n",
    "           \"Upgrade-Insecure-Requests\":\"1\"}\n",
    "\n",
    "# Send a GET request to the URL with specified headers\n",
    "page = requests.get(URL, headers = headers)\n",
    "\n",
    "# Parse the HTML content of the page using BeautifulSoup\n",
    "soup = BeautifulSoup(page.content, \"html.parser\")\n",
    "\n",
    "# Extract the title of the product from its HTML element with id \"productTitle\"\n",
    "title = soup.find(id = \"productTitle\").get_text()\n",
    "\n",
    "# Extract the price components from their respective HTML elements\n",
    "price_symbol = soup.find(\"span\", class_ = \"a-price-symbol\").get_text().strip()\n",
    "price_whole = soup.find(\"span\", class_ = \"a-price-whole\").get_text().strip()\n",
    "price_fraction = soup.find(\"span\", class_ = \"a-price-fraction\").get_text().strip()\n",
    "\n",
    "# Combine the price components into a single string representation of the price\n",
    "price = f\"{price_symbol}{price_whole}{price_fraction}\"\n",
    "\n",
    "# Print the extracted title and price\n",
    "print(title)\n",
    "print(price)"
   ]
  },
  {
   "cell_type": "code",
   "execution_count": 25,
   "id": "358b8442-33fa-47bd-936c-f03c565da329",
   "metadata": {},
   "outputs": [
    {
     "name": "stdout",
     "output_type": "stream",
     "text": [
      "Funny Got Data MIS Data Systems Business Analyst T-Shirt\n",
      "16.99\n"
     ]
    }
   ],
   "source": [
    "# Strip any leading or trailing whitespace characters from the price variable, then remove the first character (usually the currency symbol)\n",
    "price = price.strip()[1:]\n",
    "# Strip any leading or trailing whitespace characters from the title variable\n",
    "title = title.strip()\n",
    "\n",
    "print(title)\n",
    "print(price)"
   ]
  },
  {
   "cell_type": "code",
   "execution_count": 27,
   "id": "51c305ff-b4f6-4e04-95f4-93ad951bc9da",
   "metadata": {},
   "outputs": [
    {
     "name": "stdout",
     "output_type": "stream",
     "text": [
      "2024-07-14\n"
     ]
    }
   ],
   "source": [
    "import datetime # Import the datetime module for date and time operations\n",
    "\n",
    "today = datetime.date.today() # Get the current date\n",
    "\n",
    "print(today) # Print the current date"
   ]
  },
  {
   "cell_type": "code",
   "execution_count": 29,
   "id": "9c14f46e-2ca8-4c54-84a1-f0c7e5a5b3bb",
   "metadata": {},
   "outputs": [],
   "source": [
    "import csv # Import the csv module for CSV file operations\n",
    "\n",
    "header = ['Title', 'Price', 'Date']\n",
    "data = [title, price, today]\n",
    "\n",
    "# Uncommented code to write data to a CSV file\n",
    "#with open('AmazonWebScraperDataset.csv', 'w', newline = '', encoding = 'UTF8') as f:\n",
    "    #writer = csv.writer(f)\n",
    "    #writer.writerow(header)\n",
    "    #writer.writerow(data)"
   ]
  },
  {
   "cell_type": "code",
   "execution_count": 31,
   "id": "12832e5e-5b15-4e7d-ad73-aadbec5cd3a7",
   "metadata": {},
   "outputs": [
    {
     "name": "stdout",
     "output_type": "stream",
     "text": [
      "                                               Title  Price        Date\n",
      "0  Funny Got Data MIS Data Systems Business Analy...  16.99  2024-07-14\n",
      "1  Funny Got Data MIS Data Systems Business Analy...  16.99  2024-07-14\n",
      "2  Funny Got Data MIS Data Systems Business Analy...  16.99  2024-07-14\n",
      "3  Funny Got Data MIS Data Systems Business Analy...  16.99  2024-07-14\n",
      "4  Funny Got Data MIS Data Systems Business Analy...  16.99  2024-07-14\n",
      "5  Funny Got Data MIS Data Systems Business Analy...  16.99  2024-07-14\n"
     ]
    }
   ],
   "source": [
    "import pandas as pd # Import pandas library as pd for data manipulation\n",
    "\n",
    "# Read the CSV file into a pandas DataFrame\n",
    "df = pd.read_csv(r\"C:\\Users\\szeke\\AmazonWebScraperDataset.csv\")\n",
    "\n",
    "# Print the contents of the DataFrame\n",
    "print(df)"
   ]
  },
  {
   "cell_type": "code",
   "execution_count": 33,
   "id": "8702c6c5-1949-4316-82e6-cda0d75c0d33",
   "metadata": {},
   "outputs": [],
   "source": [
    "with open('AmazonWebScraperDataset.csv', 'a+', newline = '', encoding = 'UTF8') as f:\n",
    "    writer = csv.writer(f) # Create a CSV writer object\n",
    "    writer.writerow(data) # Write the 'data' list to the CSV file"
   ]
  },
  {
   "cell_type": "code",
   "execution_count": 35,
   "id": "1c2e4072-e718-484a-a84c-9396c650c29f",
   "metadata": {},
   "outputs": [],
   "source": [
    "# Combine all of the above code into one function\n",
    "def check_price():\n",
    "    URL = 'https://www.amazon.com/Funny-Data-Systems-Business-Analyst/dp/B07FNW9FGJ'\n",
    "\n",
    "    headers = {\"User-Agent\": \"Mozilla/5.0 (Windows NT 10.0; Win64; x64) AppleWebKit/537.36 (KHTML, like Gecko) Chrome/126.0.0.0 Safari/537.36\", \n",
    "               \"Accept-Encoding\": \"gzip, deflate, br, zstd\", \n",
    "               \"Accept\": \"text/html,application/xhtml+xml,application/xml;q=0.9,image/avif,image/webp,image/apng,*/*;q=0.8,application/signed-exchange;v=b3;q=0.7\", \n",
    "               \"DNT\":\"1\", \n",
    "               \"Connection\":\"close\", \n",
    "               \"Upgrade-Insecure-Requests\":\"1\"}\n",
    "\n",
    "    page = requests.get(URL, headers = headers)\n",
    "\n",
    "    soup = BeautifulSoup(page.content, \"html.parser\")\n",
    "\n",
    "    title = soup.find(id = \"productTitle\").get_text()\n",
    "\n",
    "    price_symbol = soup.find(\"span\", class_ = \"a-price-symbol\").get_text().strip()\n",
    "    price_whole = soup.find(\"span\", class_ = \"a-price-whole\").get_text().strip()\n",
    "    price_fraction = soup.find(\"span\", class_ = \"a-price-fraction\").get_text().strip()\n",
    "\n",
    "    price = f\"{price_symbol}{price_whole}{price_fraction}\"\n",
    "\n",
    "    price = price.strip()[1:]\n",
    "    title = title.strip()\n",
    "\n",
    "    import datetime\n",
    "\n",
    "    today = datetime.date.today()\n",
    "\n",
    "    import csv\n",
    "\n",
    "    header = ['Title', 'Price', 'Date']\n",
    "    data = [title, price, today]\n",
    "\n",
    "    with open('AmazonWebScraperDataset.csv', 'a+', newline = '', encoding = 'UTF8') as f:\n",
    "        writer = csv.writer(f)\n",
    "        writer.writerow(data)\n",
    "\n",
    "    # Check if the price is less than 15 and call send_mail() if true\n",
    "    if(price < 15):\n",
    "        send_mail()"
   ]
  },
  {
   "cell_type": "code",
   "execution_count": null,
   "id": "6fe2a0aa-dfca-49ff-ba59-2aab8c2d2897",
   "metadata": {},
   "outputs": [],
   "source": [
    "while(True):\n",
    "    check_price()\n",
    "    time.sleep(86400)"
   ]
  },
  {
   "cell_type": "code",
   "execution_count": 1,
   "id": "3fe50a12-3eef-4895-966a-e451d6159956",
   "metadata": {},
   "outputs": [
    {
     "name": "stdout",
     "output_type": "stream",
     "text": [
      "                                               Title  Price        Date\n",
      "0  Funny Got Data MIS Data Systems Business Analy...  16.99  2024-07-14\n",
      "1  Funny Got Data MIS Data Systems Business Analy...  16.99  2024-07-14\n",
      "2  Funny Got Data MIS Data Systems Business Analy...  16.99  2024-07-14\n",
      "3  Funny Got Data MIS Data Systems Business Analy...  16.99  2024-07-14\n",
      "4  Funny Got Data MIS Data Systems Business Analy...  16.99  2024-07-14\n",
      "5  Funny Got Data MIS Data Systems Business Analy...  16.99  2024-07-14\n"
     ]
    }
   ],
   "source": [
    "import pandas as pd\n",
    "\n",
    "df = pd.read_csv(r\"C:\\Users\\szeke\\AmazonWebScraperDataset.csv\")\n",
    "\n",
    "print(df)"
   ]
  },
  {
   "cell_type": "code",
   "execution_count": 37,
   "id": "d6558281-36d7-4f16-9cca-888e7ada360c",
   "metadata": {},
   "outputs": [],
   "source": [
    "def send_mail():\n",
    "    # Establish an SMTP connection to Gmail's SMTP server on port 465 (SSL)\n",
    "    server = smtplib.SMTP_SSL('smtp.gmail.com', 465)\n",
    "    \n",
    "    server.ehlo() # Identify ourselves to the SMTP server\n",
    "    #server.starttls() # Upgrade the connection to secure, if not using SMTP_SSL\n",
    "    server.ehlo() # Re-identify ourselves after starting TLS (if used)\n",
    "    server.login('sample@gmail.com', 'xxxxxxxxxxxxxx') # Login to Gmail SMTP server with the sender's email address and password\n",
    "\n",
    "    # Compose the email message\n",
    "    subject = \"The shirt you want is below $15! Now is your chance to buy!\"\n",
    "    body = \"Adam, this is the moment we have been waiting for. Now is your chance to pick up the shirt of your dreams. Don't mess it up! Link here: https://www.amazon.com/Funny-Data-Systems-Business-Analyst/dp/B07FNW9FGJ\"\n",
    "    msg = f\"Subject: {subject}\\n\\n{body}\"\n",
    "\n",
    "    # Send the email to 'sample@gmail.com'\n",
    "    server.sendmail(\n",
    "        'sample@gmail.com', # Recipient's email address (can be the same as sender for testing)\n",
    "        msg # Message content\n",
    "    )\n",
    "    \n",
    "    # Close the SMTP connection\n",
    "    server.quit()"
   ]
  }
 ],
 "metadata": {
  "kernelspec": {
   "display_name": "Python 3 (ipykernel)",
   "language": "python",
   "name": "python3"
  },
  "language_info": {
   "codemirror_mode": {
    "name": "ipython",
    "version": 3
   },
   "file_extension": ".py",
   "mimetype": "text/x-python",
   "name": "python",
   "nbconvert_exporter": "python",
   "pygments_lexer": "ipython3",
   "version": "3.12.4"
  }
 },
 "nbformat": 4,
 "nbformat_minor": 5
}
