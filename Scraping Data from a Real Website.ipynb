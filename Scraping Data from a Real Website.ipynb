{
 "cells": [
  {
   "cell_type": "markdown",
   "id": "6cbcffcd-489d-4851-afaf-7d04e9ce5f2f",
   "metadata": {},
   "source": [
    "# Scraping Data from a Real Website + Pandas"
   ]
  },
  {
   "cell_type": "code",
   "execution_count": 11,
   "id": "a830be01-38a0-41f6-8f9e-93bb2832c032",
   "metadata": {},
   "outputs": [],
   "source": [
    "import pandas as pd # Import the pandas library\n",
    "\n",
    "# Read the tables from the Wikipedia page. We are specifically interested in the second table, hence the index [1].\n",
    "df = pd.read_html(\"https://en.wikipedia.org/wiki/List_of_largest_companies_in_the_United_States_by_revenue\")[1]\n",
    "\n",
    "# Save the DataFrame 'df' to a CSV file at the specified path without including the DataFrame's index.\n",
    "df.to_csv(r\"C:\\Users\\szeke\\OneDrive\\Desktop\\Untitled.csv\", index = False)"
   ]
  },
  {
   "cell_type": "code",
   "execution_count": 2,
   "id": "663101b7-48ec-4379-8534-d9343c3b5e16",
   "metadata": {},
   "outputs": [],
   "source": [
    "# Import necessary libraries\n",
    "from bs4 import BeautifulSoup\n",
    "import requests\n",
    "import pandas as pd\n",
    "\n",
    "# URL of the Wikipedia page containing the list of largest companies in the United States by revenue\n",
    "url = \"https://en.wikipedia.org/wiki/List_of_largest_companies_in_the_United_States_by_revenue\"\n",
    "\n",
    "# Send a GET request to the URL and store the response in 'page'\n",
    "page = requests.get(url)\n",
    "\n",
    "# Parse the page content using BeautifulSoup with HTML parser\n",
    "soup = BeautifulSoup(page.text, 'html')\n",
    "\n",
    "# Find all the tables in the page and select the second table (index 1)\n",
    "table = soup.find_all(\"table\")[1]\n",
    "\n",
    "# Extract all the table headers (th elements) from the table\n",
    "world_titles = table.find_all(\"th\")\n",
    "\n",
    "# Extract and strip the text from each header and store it in a list\n",
    "world_table_titles = [title.text.strip() for title in world_titles]\n",
    "\n",
    "# Create a DataFrame with the extracted table headers as columns\n",
    "df = pd.DataFrame(columns = world_table_titles)\n",
    "\n",
    "# Extract all the rows (tr elements) from the table\n",
    "column_data = table.find_all(\"tr\")\n",
    "\n",
    "# Loop through each row in the table, skipping the header row\n",
    "for row in column_data[1:]:\n",
    "    # Extract all the cell data (td elements) from the row\n",
    "    row_data = row.find_all(\"td\")\n",
    "    # Extract and strip the text from each cell and store it in a list\n",
    "    individual_row_data = [data.text.strip() for data in row_data]\n",
    "\n",
    "    # Get the current length of the DataFrame to use as the new row index\n",
    "    length = len(df)\n",
    "    # Add the extracted row data to the DataFrame\n",
    "    df.loc[length] = individual_row_data\n",
    "\n",
    "# Save the DataFrame to a CSV file on the desktop\n",
    "df.to_csv(r\"C:\\Users\\szeke\\OneDrive\\Desktop\\Companies.csv\", index = False)"
   ]
  }
 ],
 "metadata": {
  "kernelspec": {
   "display_name": "Python 3 (ipykernel)",
   "language": "python",
   "name": "python3"
  },
  "language_info": {
   "codemirror_mode": {
    "name": "ipython",
    "version": 3
   },
   "file_extension": ".py",
   "mimetype": "text/x-python",
   "name": "python",
   "nbconvert_exporter": "python",
   "pygments_lexer": "ipython3",
   "version": "3.12.4"
  }
 },
 "nbformat": 4,
 "nbformat_minor": 5
}
